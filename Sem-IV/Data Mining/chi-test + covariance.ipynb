{
  "cells": [
    {
      "cell_type": "code",
      "execution_count": 1,
      "metadata": {
        "id": "QWF4suJKcYJv"
      },
      "outputs": [],
      "source": [
        "import numpy as np\n",
        "import pandas as pd\n",
        "import matplotlib.pyplot as plt\n"
      ]
    },
    {
      "cell_type": "code",
      "execution_count": 2,
      "metadata": {
        "colab": {
          "base_uri": "https://localhost:8080/"
        },
        "id": "ZLGc6YWvco4a",
        "outputId": "165183f0-50cd-43f2-9fb4-805da16c5c10"
      },
      "outputs": [
        {
          "name": "stdout",
          "output_type": "stream",
          "text": [
            "Array1: [0.32951691 0.18326118 0.81589621 0.01866459 0.56475015 0.03081094\n",
            " 0.01776297 0.48054845 0.63214226 0.91463731]\n",
            "Array2: [0.95969488 0.160534   0.04584518 0.37892297 0.28099923 0.34979159\n",
            " 0.16556528 0.28579065 0.94019587 0.79933174]\n"
          ]
        }
      ],
      "source": [
        "# Generate two random arrays using NumPy\n",
        "array1 = np.random.rand(10)\n",
        "array2 = np.random.rand(10)\n",
        "\n",
        "print(f\"Array1: {array1}\")\n",
        "print(f\"Array2: {array2}\")"
      ]
    },
    {
      "cell_type": "code",
      "execution_count": 5,
      "metadata": {},
      "outputs": [],
      "source": [
        "mean_array1 = np.mean(array1)\n",
        "mean_array2 = np.mean(array2)"
      ]
    },
    {
      "cell_type": "code",
      "execution_count": 6,
      "metadata": {
        "colab": {
          "base_uri": "https://localhost:8080/"
        },
        "id": "GZQarMa2cpAT",
        "outputId": "b9c5e207-8c9a-4e43-a7c2-1f8279a754a5"
      },
      "outputs": [
        {
          "name": "stdout",
          "output_type": "stream",
          "text": [
            "Mean of array1: 0.3987990964183857\n",
            "Mean of array2: 0.4366671388117009\n",
            "Manually Calculated Covariance: 0.03154368928391223\n"
          ]
        }
      ],
      "source": [
        "print(f\"Mean of array1: {mean_array1}\")\n",
        "print(f\"Mean of array2: {mean_array2}\")\n",
        "cov_value_manual = np.sum((array1 - mean_array1) * (array2 - mean_array2)) / (len(array1) - 1)\n",
        "print(f\"Manually Calculated Covariance: {cov_value_manual}\")\n"
      ]
    },
    {
      "cell_type": "code",
      "execution_count": 7,
      "metadata": {
        "colab": {
          "base_uri": "https://localhost:8080/"
        },
        "id": "ylmwaTNhcpDS",
        "outputId": "eac29c93-5b8e-4e63-87cf-9fe10ffd20a2"
      },
      "outputs": [
        {
          "name": "stdout",
          "output_type": "stream",
          "text": [
            "Contingency Table:\n",
            "[[6 8]\n",
            " [1 1]]\n"
          ]
        }
      ],
      "source": [
        "#chi square test\n",
        "contingency_table = np.random.randint(1, 10, size=(2, 2))\n",
        "print(f\"Contingency Table:\\n{contingency_table}\")\n"
      ]
    },
    {
      "cell_type": "code",
      "execution_count": 8,
      "metadata": {
        "colab": {
          "base_uri": "https://localhost:8080/"
        },
        "id": "IuhvH56eeQj6",
        "outputId": "da6e86ab-092f-48ac-cafd-c0ff8334fc23"
      },
      "outputs": [
        {
          "name": "stdout",
          "output_type": "stream",
          "text": [
            "Row Sums: [14  2]\n",
            "Column Sums: [7 9]\n",
            "Total Sum: 16\n"
          ]
        }
      ],
      "source": [
        "row_sums = np.sum(contingency_table, axis=1)\n",
        "col_sums = np.sum(contingency_table, axis=0)\n",
        "total_sum = np.sum(contingency_table)\n",
        "print(f\"Row Sums: {row_sums}\")\n",
        "print(f\"Column Sums: {col_sums}\")\n",
        "print(f\"Total Sum: {total_sum}\")\n"
      ]
    },
    {
      "cell_type": "code",
      "execution_count": 9,
      "metadata": {
        "colab": {
          "base_uri": "https://localhost:8080/"
        },
        "id": "VNn68MUneQnB",
        "outputId": "57dda532-80ee-49da-906c-ee1b870b1f7d"
      },
      "outputs": [
        {
          "name": "stdout",
          "output_type": "stream",
          "text": [
            "Expected Values Table:\n",
            "[[6.125 7.875]\n",
            " [0.875 1.125]]\n"
          ]
        }
      ],
      "source": [
        "\n",
        "# Calculate expected values\n",
        "expected_table = np.outer(row_sums, col_sums) / total_sum\n",
        "print(f\"Expected Values Table:\\n{expected_table}\")\n"
      ]
    },
    {
      "cell_type": "code",
      "execution_count": 10,
      "metadata": {
        "colab": {
          "base_uri": "https://localhost:8080/"
        },
        "id": "MH-ujNwneQqa",
        "outputId": "57ecacd4-c5f8-4692-c397-3e326a67a4fe"
      },
      "outputs": [
        {
          "name": "stdout",
          "output_type": "stream",
          "text": [
            "Calculated Chi-Square Statistic: 0.03628117913832199\n"
          ]
        }
      ],
      "source": [
        "\n",
        "#  Calculate Chi-Square value\n",
        "chi2_cal = np.sum((contingency_table - expected_table) ** 2 / expected_table)\n",
        "print(f\"Calculated Chi-Square Statistic: {chi2_cal}\")\n"
      ]
    },
    {
      "cell_type": "code",
      "execution_count": 11,
      "metadata": {
        "colab": {
          "base_uri": "https://localhost:8080/"
        },
        "id": "rIiddsbmeQt5",
        "outputId": "dcc33f72-5e66-4ad2-a0ab-7f40a3be42ac"
      },
      "outputs": [
        {
          "name": "stdout",
          "output_type": "stream",
          "text": [
            "Critical Value at 0.05 signifficance level: 3.841458820694124\n"
          ]
        }
      ],
      "source": [
        "\n",
        "# Critical value for Chi-Square at a 0.05 significance level and 1 degree of freedom\n",
        "from scipy.stats import chi2\n",
        "chi2_table = chi2.ppf(0.95, df=1)  # df=1 for a 2x2 table\n",
        "print(f\"Critical Value at 0.05 signifficance level: {chi2_table}\")"
      ]
    },
    {
      "cell_type": "code",
      "execution_count": 12,
      "metadata": {
        "colab": {
          "base_uri": "https://localhost:8080/"
        },
        "id": "IGeHKq7keQxB",
        "outputId": "9ffeef93-1e70-4c8c-e7c3-4d2e75a2ba35"
      },
      "outputs": [
        {
          "name": "stdout",
          "output_type": "stream",
          "text": [
            "Fail to reject the null hypothesis (No significant association).\n"
          ]
        }
      ],
      "source": [
        "#comparision of the calculated and table chi square value\n",
        "if chi2_cal > chi2_table:\n",
        "    print(\"Reject the null hypothesis (There is a significant association).\")\n",
        "else:\n",
        "    print(\"Fail to reject the null hypothesis (No significant association).\")\n"
      ]
    },
    {
      "cell_type": "code",
      "execution_count": 13,
      "metadata": {
        "colab": {
          "base_uri": "https://localhost:8080/",
          "height": 206
        },
        "id": "2hXezG7VeQ0J",
        "outputId": "b1b7df34-a693-4783-c3b6-c62171d9a781"
      },
      "outputs": [
        {
          "data": {
            "text/html": [
              "<div>\n",
              "<style scoped>\n",
              "    .dataframe tbody tr th:only-of-type {\n",
              "        vertical-align: middle;\n",
              "    }\n",
              "\n",
              "    .dataframe tbody tr th {\n",
              "        vertical-align: top;\n",
              "    }\n",
              "\n",
              "    .dataframe thead th {\n",
              "        text-align: right;\n",
              "    }\n",
              "</style>\n",
              "<table border=\"1\" class=\"dataframe\">\n",
              "  <thead>\n",
              "    <tr style=\"text-align: right;\">\n",
              "      <th></th>\n",
              "      <th>credit.policy</th>\n",
              "      <th>purpose</th>\n",
              "      <th>int.rate</th>\n",
              "      <th>installment</th>\n",
              "      <th>log.annual.inc</th>\n",
              "      <th>dti</th>\n",
              "      <th>fico</th>\n",
              "      <th>days.with.cr.line</th>\n",
              "      <th>revol.bal</th>\n",
              "      <th>revol.util</th>\n",
              "      <th>inq.last.6mths</th>\n",
              "      <th>delinq.2yrs</th>\n",
              "      <th>pub.rec</th>\n",
              "      <th>not.fully.paid</th>\n",
              "    </tr>\n",
              "  </thead>\n",
              "  <tbody>\n",
              "    <tr>\n",
              "      <th>0</th>\n",
              "      <td>1</td>\n",
              "      <td>debt_consolidation</td>\n",
              "      <td>0.1189</td>\n",
              "      <td>829.10</td>\n",
              "      <td>11.350407</td>\n",
              "      <td>19.48</td>\n",
              "      <td>737</td>\n",
              "      <td>5639.958333</td>\n",
              "      <td>28854</td>\n",
              "      <td>52.1</td>\n",
              "      <td>0</td>\n",
              "      <td>0</td>\n",
              "      <td>0</td>\n",
              "      <td>0</td>\n",
              "    </tr>\n",
              "    <tr>\n",
              "      <th>1</th>\n",
              "      <td>1</td>\n",
              "      <td>credit_card</td>\n",
              "      <td>0.1071</td>\n",
              "      <td>228.22</td>\n",
              "      <td>11.082143</td>\n",
              "      <td>14.29</td>\n",
              "      <td>707</td>\n",
              "      <td>2760.000000</td>\n",
              "      <td>33623</td>\n",
              "      <td>76.7</td>\n",
              "      <td>0</td>\n",
              "      <td>0</td>\n",
              "      <td>0</td>\n",
              "      <td>0</td>\n",
              "    </tr>\n",
              "    <tr>\n",
              "      <th>2</th>\n",
              "      <td>1</td>\n",
              "      <td>debt_consolidation</td>\n",
              "      <td>0.1357</td>\n",
              "      <td>366.86</td>\n",
              "      <td>10.373491</td>\n",
              "      <td>11.63</td>\n",
              "      <td>682</td>\n",
              "      <td>4710.000000</td>\n",
              "      <td>3511</td>\n",
              "      <td>25.6</td>\n",
              "      <td>1</td>\n",
              "      <td>0</td>\n",
              "      <td>0</td>\n",
              "      <td>0</td>\n",
              "    </tr>\n",
              "    <tr>\n",
              "      <th>3</th>\n",
              "      <td>1</td>\n",
              "      <td>debt_consolidation</td>\n",
              "      <td>0.1008</td>\n",
              "      <td>162.34</td>\n",
              "      <td>11.350407</td>\n",
              "      <td>8.10</td>\n",
              "      <td>712</td>\n",
              "      <td>2699.958333</td>\n",
              "      <td>33667</td>\n",
              "      <td>73.2</td>\n",
              "      <td>1</td>\n",
              "      <td>0</td>\n",
              "      <td>0</td>\n",
              "      <td>0</td>\n",
              "    </tr>\n",
              "    <tr>\n",
              "      <th>4</th>\n",
              "      <td>1</td>\n",
              "      <td>credit_card</td>\n",
              "      <td>0.1426</td>\n",
              "      <td>102.92</td>\n",
              "      <td>11.299732</td>\n",
              "      <td>14.97</td>\n",
              "      <td>667</td>\n",
              "      <td>4066.000000</td>\n",
              "      <td>4740</td>\n",
              "      <td>39.5</td>\n",
              "      <td>0</td>\n",
              "      <td>1</td>\n",
              "      <td>0</td>\n",
              "      <td>0</td>\n",
              "    </tr>\n",
              "  </tbody>\n",
              "</table>\n",
              "</div>"
            ],
            "text/plain": [
              "   credit.policy             purpose  int.rate  installment  log.annual.inc  \\\n",
              "0              1  debt_consolidation    0.1189       829.10       11.350407   \n",
              "1              1         credit_card    0.1071       228.22       11.082143   \n",
              "2              1  debt_consolidation    0.1357       366.86       10.373491   \n",
              "3              1  debt_consolidation    0.1008       162.34       11.350407   \n",
              "4              1         credit_card    0.1426       102.92       11.299732   \n",
              "\n",
              "     dti  fico  days.with.cr.line  revol.bal  revol.util  inq.last.6mths  \\\n",
              "0  19.48   737        5639.958333      28854        52.1               0   \n",
              "1  14.29   707        2760.000000      33623        76.7               0   \n",
              "2  11.63   682        4710.000000       3511        25.6               1   \n",
              "3   8.10   712        2699.958333      33667        73.2               1   \n",
              "4  14.97   667        4066.000000       4740        39.5               0   \n",
              "\n",
              "   delinq.2yrs  pub.rec  not.fully.paid  \n",
              "0            0        0               0  \n",
              "1            0        0               0  \n",
              "2            0        0               0  \n",
              "3            0        0               0  \n",
              "4            1        0               0  "
            ]
          },
          "execution_count": 13,
          "metadata": {},
          "output_type": "execute_result"
        }
      ],
      "source": [
        "#Using a provided dataset, perform chi square test and covariance calculation of any two columns to assess their association.\n",
        "import pandas as pd\n",
        "df = pd.read_csv('loan_data.csv')\n",
        "df = df.dropna()\n",
        "df.head()"
      ]
    },
    {
      "cell_type": "code",
      "execution_count": 14,
      "metadata": {
        "colab": {
          "base_uri": "https://localhost:8080/"
        },
        "id": "eFdEHZyPoPso",
        "outputId": "ed4699c1-884e-4945-d53f-f9be6f5c6bef"
      },
      "outputs": [
        {
          "name": "stdout",
          "output_type": "stream",
          "text": [
            "<class 'pandas.core.frame.DataFrame'>\n",
            "RangeIndex: 9578 entries, 0 to 9577\n",
            "Data columns (total 14 columns):\n",
            " #   Column             Non-Null Count  Dtype  \n",
            "---  ------             --------------  -----  \n",
            " 0   credit.policy      9578 non-null   int64  \n",
            " 1   purpose            9578 non-null   object \n",
            " 2   int.rate           9578 non-null   float64\n",
            " 3   installment        9578 non-null   float64\n",
            " 4   log.annual.inc     9578 non-null   float64\n",
            " 5   dti                9578 non-null   float64\n",
            " 6   fico               9578 non-null   int64  \n",
            " 7   days.with.cr.line  9578 non-null   float64\n",
            " 8   revol.bal          9578 non-null   int64  \n",
            " 9   revol.util         9578 non-null   float64\n",
            " 10  inq.last.6mths     9578 non-null   int64  \n",
            " 11  delinq.2yrs        9578 non-null   int64  \n",
            " 12  pub.rec            9578 non-null   int64  \n",
            " 13  not.fully.paid     9578 non-null   int64  \n",
            "dtypes: float64(6), int64(7), object(1)\n",
            "memory usage: 1.0+ MB\n"
          ]
        }
      ],
      "source": [
        "df.info()"
      ]
    },
    {
      "cell_type": "code",
      "execution_count": 16,
      "metadata": {
        "colab": {
          "base_uri": "https://localhost:8080/"
        },
        "id": "rtYifEQ4eQ_z",
        "outputId": "530a4bca-7ca9-47e3-de86-f2a39034f95f"
      },
      "outputs": [
        {
          "name": "stdout",
          "output_type": "stream",
          "text": [
            "Critical Value at 0.05 signifficance level: 3.841458820694124\n"
          ]
        }
      ],
      "source": [
        "def get_chi_square_value(observed_table, significance_level=0.05):\n",
        "\n",
        "    chi2, p, dof, expected = stats.chi2_contingency(observed_table)\n",
        "    critical_value = stats.chi2.ppf(1 - significance_level, dof)\n",
        "    return critical_value\n",
        "\n",
        "# Critical value for Chi-Square at a 0.05 significance level and 1 degree of freedom\n",
        "chi2_table = get_chi_square_value(contingency_table , significance_level = 0.05)\n",
        "print(f\"Critical Value at 0.05 signifficance level: {chi2_table}\")\n",
        "\n"
      ]
    },
    {
      "cell_type": "code",
      "execution_count": 17,
      "metadata": {
        "colab": {
          "base_uri": "https://localhost:8080/"
        },
        "id": "rJ4wOx7MeRDr",
        "outputId": "f46f1c7b-b63d-4bd4-c59b-ee124895f9f9"
      },
      "outputs": [
        {
          "name": "stdout",
          "output_type": "stream",
          "text": [
            "Fail to reject the null hypothesis (No significant association).\n"
          ]
        }
      ],
      "source": [
        "#comparision of the calculated and table chi square value\n",
        "if chi2_cal > chi2_table:\n",
        "    print(\"Reject the null hypothesis (There is a significant association).\")\n",
        "else:\n",
        "    print(\"Fail to reject the null hypothesis (No significant association).\")\n"
      ]
    }
  ],
  "metadata": {
    "colab": {
      "provenance": []
    },
    "kernelspec": {
      "display_name": "ML",
      "language": "python",
      "name": "python3"
    },
    "language_info": {
      "codemirror_mode": {
        "name": "ipython",
        "version": 3
      },
      "file_extension": ".py",
      "mimetype": "text/x-python",
      "name": "python",
      "nbconvert_exporter": "python",
      "pygments_lexer": "ipython3",
      "version": "3.10.13"
    }
  },
  "nbformat": 4,
  "nbformat_minor": 0
}
